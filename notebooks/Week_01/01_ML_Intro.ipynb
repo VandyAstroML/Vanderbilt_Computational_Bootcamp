{
 "cells": [
  {
   "cell_type": "markdown",
   "metadata": {},
   "source": [
    "# First Week Intro\n",
    "\n",
    "## Today's agenda:\n",
    "1. __Workshop Overview__:\n",
    "    * _When_: Each Monday at 11am\n",
    "    * _Where_: SC 6322\n",
    "    * _What_: Most weeks we'll be working on a new topic in coding\n",
    "    * Want to lead a session for a topic? Some weeks there will be small hack sessions for people to discuss problems they're working on.\n",
    "    * _Online_: https://github.com/VandyAstroML/Vanderbilt_Computational_Bootcamp\n",
    "\n",
    "2. __This Week__:\n",
    "    * Introduction to the _class_ and to some __useful__ programs and services applicable to research.\n",
    "\n",
    "3. __Next Week__ (01/30):\n",
    "    * How to set up a Python environment. We will make sure everyone has a working version of Anaconda running on their laptop, and we'll be set up Git and Github for future sessions. __Make sure you bring your laptop to this session__.\n",
    "\n"
   ]
  },
  {
   "cell_type": "markdown",
   "metadata": {},
   "source": [
    "## ArXiv\n",
    "\n",
    "https://arxiv.org/\n",
    "\n",
    "* Best source for finding the newest papers\n",
    "* No paywall\n",
    "* __ArXiv warning__: Papers on ArXiv don't require peer review, pay attention to if it's been submitted or accepted to a journal\n",
    "* Some papers only exist on ArXiv without being published in a journal\n",
    "* Manuals\n",
    "* White Papers"
   ]
  },
  {
   "cell_type": "markdown",
   "metadata": {},
   "source": [
    "## SAO/NASA ADS\n",
    "\n",
    "http://adsabs.harvard.edu/\n",
    "\n",
    "* Database with 12.4 million publications in physics, astronomy, and astrophysics\n",
    "* Also includes ArXiv submissions, and some conference presentations\n",
    "<BR>\n",
    "\n",
    "## MyADS\n",
    "http://myads.harvard.edu/\n",
    "* ADS service that will email you weekly the most popular publications based on certain keywords\n",
    "![my_image](./images/myADS.png)"
   ]
  },
  {
   "cell_type": "markdown",
   "metadata": {},
   "source": [
    "## VoxCharta\n",
    "\n",
    "http://vanderbilt.voxcharta.org/\n",
    "\n",
    "* Daily update on all publications on the ArXiv in Astronomy and some areas of physics\n",
    "* Also useful for AstroLunch\n",
    "* Will email you papers you may want to read based off of your past votes"
   ]
  },
  {
   "cell_type": "markdown",
   "metadata": {},
   "source": [
    "## Mendeley\n",
    "\n",
    "https://www.mendeley.com/\n",
    "\n",
    "* Free software that will manage your downloaded papers<BR>\n",
    "* Also manages your list of references<BR>\n",
    "* Outputs a Bibtex file that makes including citations in paper quick and simple<BR>\n",
    "\n",
    "![my_image](./images/Mendeley.png)\n",
    "\n",
    "### Additional code available to update Mendeley and clean up output<NR>\n",
    "<UL><LI>https://github.com/lundmb/MendeleyUpdater<BR>\n",
    "Updates paper information in Mendeley, including adding publication info once ArXiv \n",
    "<LI>https://github.com/lundmb/BibtexUpdater</UL>\n",
    "\n",
    "![my_image](./images/Mendeley_library.png)"
   ]
  },
  {
   "cell_type": "markdown",
   "metadata": {},
   "source": [
    "## ShareLaTeX\n",
    "\n",
    "http://www.sharelatex.com/\n",
    "\n",
    "* Site for collaborative paper writing<BR>\n",
    "* __Free account__ can share a project it creates with up to 2 people<BR>\n",
    "* _Paid_ account can share with an infinite number of people<BR>"
   ]
  },
  {
   "cell_type": "markdown",
   "metadata": {
    "collapsed": true
   },
   "source": [
    "## Slack\n",
    "\n",
    "* We will be using Slack throughout this _course_.\n",
    "* The name of the group on Slack is: __vandyastroseminar.slack.com__\n",
    "* _Note_: We will be talking more about Slack next week!\n",
    "\n",
    "Slack is a platform to facilitate communication among team members.\n",
    "* One can easily share documents!\n",
    "* Talk to each member of the group\n",
    "* _Replaces_ the need of emails\n",
    "* And more!\n",
    "\n",
    "\n",
    "![my_image](./images/Slack_01.png)"
   ]
  }
 ],
 "metadata": {
  "kernelspec": {
   "display_name": "Python 2",
   "language": "python",
   "name": "python2"
  },
  "language_info": {
   "codemirror_mode": {
    "name": "ipython",
    "version": 2
   },
   "file_extension": ".py",
   "mimetype": "text/x-python",
   "name": "python",
   "nbconvert_exporter": "python",
   "pygments_lexer": "ipython2",
   "version": "2.7.11"
  }
 },
 "nbformat": 4,
 "nbformat_minor": 1
}
