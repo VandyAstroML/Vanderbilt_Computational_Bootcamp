{
 "cells": [
  {
   "cell_type": "markdown",
   "metadata": {},
   "source": [
    "# Today's Agenda\n",
    "<UL>\n",
    "<LI>Basic bash commands\n",
    "<LI>Jupyter notebooks\n",
    "<LI>Python 2 vs Python 3\n",
    "</UL>"
   ]
  },
  {
   "cell_type": "markdown",
   "metadata": {},
   "source": [
    "# Introduction to bash\n",
    "\n",
    "bash is a command-line interpreter or shell that instructs the operating system to carry out commands on a line-by-line basis, or when written together as scripts and is run in a terminal. bash is a Unix-based shell that we will be focusing on, but there are others out there (such as tcsh). If you're not sure what shell you're using, running the commands 'echo \\$0' or 'ps -p \\$\\$' will *usually* tell you. In bash, \\$ denotes at the start of a string denotes a variable.\n",
    "\n",
    "\n",
    "### Basic bash commands\n",
    "<UL>\n",
    "<LI><pre><code>pwd</code></pre> - Returns the pathway that you are currently in (i.e. how to get to your current directory)\n",
    "<LI><pre><code>cd [path]</code></pre> - Change the path you are in\n",
    "<LI><pre><code>ls</code></pre> - list all files in the current location\n",
    "<LI><pre><code>locate [file]</code></pre> - find file with a particular name\n",
    "<LI><pre><code>cp [file1] [file2]</code></pre> - Copy a file to another place (original file remains)\n",
    "<LI><pre><code>mv [file1] [file2]</code></pre> - Move a file to another place (original file is gone)\n",
    "<LI><pre><code>mkdir [name]</code></pre> - Create a new directory\n",
    "<LI><pre><code>rm [file1]</code></pre> - Remove a file **WARNING: Using this incorrectly, you can delete EVERYTHING**\n",
    "<LI><pre><code>man [command]</code></pre> - Opens the manual page for a file for full usage instructions and all options available. You can also use '[command] --help' for most standard commands to see how to use them\n",
    "<LI><pre><code>echo [string/variable]</code></pre> - prints the string or variable to the terminal\n",
    "<LI><pre><code>head [file]</code></pre> - prints the first ten lines of the file to screen\n",
    "<LI><pre><code>tail [file]</code></pre> - prints the last ten lines of the file to screen\n",
    "</UL>\n",
    "\n",
    "Not sure how to use something still? Or if it does what you want it to? Google usually helps (and will usually bring you to a mostly useful answer at stackoverflow)\n",
    "\n",
    "### aliases\n",
    "\n",
    "Aliases are ways to call a set of commands that you use frequently with a short nickname. These are often stored in the .bashrc file (a file that contains the settings for when you run a bash terminal) or in .profile (a file that contains settings for running shell scripts). We can talk about them later, but useful to know they're an available tool.\n",
    "\n",
    "### path\n",
    "\n",
    "When you try to run an executable, the path variable is a list of locations where it will check to find the file to run. This allows you to download or write new programs/scripts and be able to call them anywhere without having to always include the full path to the file. For example, this typically includes locations like /usr/bin.\n",
    "\n",
    "To check what is in the path, you can run 'echo \\$PATH' and see a list of the directories that will be checked. You can add new directories to the list of stored paths by opening .profile in a text editor, and adding a line like this:\n",
    "<pre><code>PATH=$PATH:newdirectorypath </code></pre>\n",
    "After adding this, every time you start a terminal, this location will be part of the directories that will be checked for executibles."
   ]
  },
  {
   "cell_type": "markdown",
   "metadata": {},
   "source": [
    "## Quick bash tutorial\n",
    "\n",
    "To go over some of the commands, we're going to try doing some basic operations with some bash commands. To do this, first open up a terminal window. Run one of the commands from earlier to check that you're running bash by default. If you're not, you *should* be able to start a bash shell by just running 'bash'.\n",
    "\n",
    "Now we'll set up a quick directory to play in. I'll call it compshop\n",
    "<pre><code>mkdir compshop</code></pre>\n",
    "And then go into this directory\n",
    "<pre><code>cd compshop</code></pre>\n",
    "We can quickly check to see the full path of where we are now\n",
    "<pre><code>pwd</code></pre>\n",
    "And we can confirm that right now the file is empty, too\n",
    "<pre><code>ls</code></pre>\n",
    "Because we're working with computers, we have to print this to the screen at some point....\n",
    "<pre><code>echo Hello, World!</code></pre>\n",
    "Since a lot of what bash is useful for is moving files around, we'll make a file to work with. We can also have echo write to a file by adding '> [filename]' at the end of the command.\n",
    "<pre><code>echo Hello, World! > filegreeting</code></pre>\n",
    "A quick check again with ls and we'll see we now have one file in the directory. We can also see that that file contains exactly what we wanted it to\n",
    "<pre><code>head filegreeting</code></pre>\n",
    "We can make a second copy of this file\n",
    "<pre><code>cp filegreeting filegreeting2</code></pre>\n",
    "Checking ls again, we now have two files. If we wanted to rename one of them, we can just use the mv command for that\n",
    "<pre><code>mv filegreeting2 filegreetings</code></pre>\n",
    "Check ls again, and we still have two files, but we changed the name of one of them. Finally, as we've tried out most of the bash commands here, we'll get rid of these two files. We can just give a list of files to be removed.\n",
    "<pre><code>rm filegreeting filegreetings</code></pre>\n",
    "\n",
    "All of these operations can get a lot more complex or sophisticated (like echo did when we had it write to a file), but these are a lot of the most common commands to show up in bash."
   ]
  },
  {
   "cell_type": "markdown",
   "metadata": {},
   "source": [
    "# Jupyter notebooks\n",
    "\n",
    "A Jupyter notebook is a file (like this one) that contains cells that can contain either plain text or code. So far, we've only been using plain text, but as we start working with Python, we can explain stuff in the text, and then you'll be able to run the sections that contain code and see what happens, as well as change the code to see how those changes effect the results. The first example of this is going to be in the last section today.\n",
    "\n",
    "### Running Jupyter notebooks\n",
    "\n",
    "There's two ways of viewing Jupyter notebooks, both of which take place inside a browser. On the github we're using, the notebooks can be ran directly on github. In this sense, it works the same as simply visiting a website. However, this will only allow you to view it as a static page. It won't allow you to use any of the interactive features of a Jupyter notebook. For that, you'll need to use the second method, which takes place locally.\n",
    "\n",
    "The second way requires having Jupyter downloaded, although Anaconda should have included this. From here, you may have an icon to start Jupyter. You can also start it from the terminal by running 'jupyter notebook'. This starts a jupyter server, and will also open up a tab in your default browser. Using that default browser, go through your directories to locate the notebook file that you want to run (you can also run 'jupyter notebook' while you're in the directory that file is in to speed this up).\n",
    "\n",
    "\n",
    "### Create Jupyter notebooks\n",
    "\n",
    "Creating a Jupyter notebook file is very similar to the second way of accessing a Jupyter notebook file. As before, you have to run 'jupyter notebook' to start up the Jupyter server. In this case, though, you go to the directory you want the file to be located, and then select 'new' in the upper-right corner and select a Python notebook.\n",
    "\n",
    "For now, we won't go into the details of formatting within a Jupyter notebook."
   ]
  },
  {
   "cell_type": "markdown",
   "metadata": {},
   "source": [
    "# Python 2 vs Python 3\n",
    "\n",
    "It's important to take a moment to make a general mention about Python. In most cases in programming, it's fair to assume that everyone is working in the 'newest' version of the language that's stable. Python, however, is in a unique spot. Python 2.7 came out in 2010, but Python 3 started being released in 2008, and is currently up to Python 3.6, which came out in 2016. So the most recent Python 3 major update is 6 years newer. However, Python 2 and Python 3 have some differences that have meant not all Python 2 code can work with Python 3 without things being rewrittten. This means if you're using old code, you may need to use Python 2 if it hasn't been updated.\n",
    "\n",
    "There's two basic differences to mention, but more can be found <A HREF=http://sebastianraschka.com/Articles/2014_python_2_3_key_diff.html>here</A>, with examples of how the code runs in both Python 2 and Python 3.\n",
    "\n",
    "The first big difference is how they treat division. In Python 2, division of two integers will return an integer answer. This is fine for 8/2, which will always be 4. However 7/2 will return 3 as the answer. Older code may be written to take advantage of this on purpose. Python 3, however, will not do this, and so 7/2=3.5. This is correct math, but may not be what older code wanted to have happen.\n",
    "\n",
    "The second big difference is that there's additional formatting required for print statements. This will mean that Python 2 code with any print statements in the old format will have a syntax error when it's run in Python 3.\n",
    "\n",
    "The below block of code is some simple Python that will print out what the Python version that is being run is. To run the block of code, select the cell and then hit shift+enter and the Python code will run, confirming which version you're using."
   ]
  },
  {
   "cell_type": "code",
   "execution_count": null,
   "metadata": {
    "collapsed": false
   },
   "outputs": [],
   "source": [
    "import sys\n",
    "print (sys.version)"
   ]
  },
  {
   "cell_type": "code",
   "execution_count": null,
   "metadata": {
    "collapsed": true
   },
   "outputs": [],
   "source": []
  }
 ],
 "metadata": {
  "kernelspec": {
   "display_name": "Python 2",
   "language": "python",
   "name": "python2"
  },
  "language_info": {
   "codemirror_mode": {
    "name": "ipython",
    "version": 2
   },
   "file_extension": ".py",
   "mimetype": "text/x-python",
   "name": "python",
   "nbconvert_exporter": "python",
   "pygments_lexer": "ipython2",
   "version": "2.7.12"
  }
 },
 "nbformat": 4,
 "nbformat_minor": 1
}
