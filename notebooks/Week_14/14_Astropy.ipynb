{
 "cells": [
  {
   "cell_type": "markdown",
   "metadata": {},
   "source": [
    "# Week 14 - Astropy\n",
    "\n",
    "## Today's Agenda\n",
    "\n",
    "- Useful functions of [Astropy](http://www.astropy.org/)"
   ]
  },
  {
   "cell_type": "markdown",
   "metadata": {
    "collapsed": true
   },
   "source": [
    "Astropy is a package that is meant to provide a lot of basic functionality for astronomy work in Python\n",
    "\n",
    "This can be roughly broken up into two areas. One is astronomical calculations:  \n",
    "* unit and physical quantity conversions\n",
    "* physical constants specific to astronomy\n",
    "* celestial coordinate and time transformations\n",
    "\n",
    "The other is file type and structures:\n",
    "* FITS files, implementing the former standalone PyFITS interface\n",
    "* Virtual Observatory (VO) tables\n",
    "* common ASCII table formats, e.g. for online catalogues or data supplements of scientific publications\n",
    "* Hierarchical Data Format (HDF5) files\n",
    "\n",
    "\n",
    "For purposes of today, we'll focus just on what astropy can do for units, time, and coordinates."
   ]
  },
  {
   "cell_type": "code",
   "execution_count": null,
   "metadata": {
    "collapsed": false
   },
   "outputs": [],
   "source": [
    "import astropy\n",
    "from astropy import units as u\n",
    "from astropy.coordinates import SkyCoord\n",
    "from astropy import constants as const"
   ]
  },
  {
   "cell_type": "markdown",
   "metadata": {},
   "source": [
    "## Units\n",
    "\n",
    "Astropy.units introduces units and allows for unit conversions. It doesn't, however, correctly handle spherical coordinates, but the astropy.coordinates package will address this later.\n",
    "\n",
    "These units can be used to create objects that are made up of both a value and a unit, and basic math can be easily carried out with these. We can add the .unit and .value properties to get the units and numerical values, respectively."
   ]
  },
  {
   "cell_type": "code",
   "execution_count": null,
   "metadata": {
    "collapsed": false
   },
   "outputs": [],
   "source": [
    "d=42*u.meter\n",
    "t=6*u.second\n",
    "v=d/t\n",
    "print v\n",
    "print v.unit"
   ]
  },
  {
   "cell_type": "markdown",
   "metadata": {},
   "source": [
    "Astropy includes a large number of units, and this can include imperial units as well if desired by importing and enabling imperial units. The .find_equivalent_units() function will also return all the other units that are already defined in astropy. Below we do a quick list of the units that are defined for time and length units"
   ]
  },
  {
   "cell_type": "code",
   "execution_count": null,
   "metadata": {
    "collapsed": false
   },
   "outputs": [],
   "source": [
    "from astropy.units import imperial\n",
    "imperial.enable()\n",
    "print u.s.find_equivalent_units()\n",
    "print u.m.find_equivalent_units()"
   ]
  },
  {
   "cell_type": "markdown",
   "metadata": {},
   "source": [
    "The package also provides constants, with the units included. The full list of units can be found [here](http://docs.astropy.org/en/stable/constants/). We can take a quick look at c and G below, and see that these are objects which have value, uncertainty, and units."
   ]
  },
  {
   "cell_type": "code",
   "execution_count": null,
   "metadata": {
    "collapsed": false
   },
   "outputs": [],
   "source": [
    "print const.c\n",
    "print const.G"
   ]
  },
  {
   "cell_type": "markdown",
   "metadata": {},
   "source": [
    "Astropy has an aditional function that will allow for unit conversions. So we can, for example, create an object that is the distance to Mars, and then convert that to kilometers or miles. A brief note is that if you try to convert a pure unit (like the 4th line below) into another unit, you'll get a unitless value representing the conversion between the two.\n",
    "\n",
    "This can also be used to convert constants into other units, so we can convert the speed of light to the somewhat useful pc/yr or the entirely unuseful furlong/fortnight"
   ]
  },
  {
   "cell_type": "code",
   "execution_count": null,
   "metadata": {
    "collapsed": false
   },
   "outputs": [],
   "source": [
    "Mars=1.5*u.AU\n",
    "print Mars.to('kilometer')\n",
    "print Mars.to('mile')\n",
    "print u.AU.to('kilometer')\n",
    "print const.c.to('pc/yr')\n",
    "print const.c.to('fur/fortnight')"
   ]
  },
  {
   "cell_type": "markdown",
   "metadata": {},
   "source": [
    "To use this more practically, we can calculate the time it will take for light to reach the earth just by dividing 1 AU by the speed of light, as done below. Since AU is a unit, and c is in m/s, we end up with an answer that is (AU\\*m/s). By using .decompose() we can simplify that expression, which in this case will end up with an answer that is just in seconds. Finally, we can then convert that answer to minutes to get the answer of about 8 1/3 minutes that is commonly used. None of this required our doing the conversions where we might've slipped up."
   ]
  },
  {
   "cell_type": "code",
   "execution_count": null,
   "metadata": {
    "collapsed": false
   },
   "outputs": [],
   "source": [
    "time=1*u.AU/const.c\n",
    "print time\n",
    "time_s=time.decompose()\n",
    "print time_s\n",
    "time_min=time_s.to(u.minute)\n",
    "print time_min"
   ]
  },
  {
   "cell_type": "markdown",
   "metadata": {},
   "source": [
    "## Time\n",
    "\n",
    "Astropy handles time in a similar way to units, with creating Time objects. These objects have two main properties.  \n",
    "The format is simply how the time is displayed. This is the difference between, for example, Julian Date, Modified Julian Date, and ISO time (YYYY-MM-DD HH:MM:SS). The second is the scale, and is the difference between terrestrial time vs time at the barycenter of the solar system.\n",
    "\n",
    "We can start off by changing a time from one format to many others. We can also subtract times and we will get a timedelta unit."
   ]
  },
  {
   "cell_type": "code",
   "execution_count": null,
   "metadata": {
    "collapsed": false
   },
   "outputs": [],
   "source": [
    "from astropy.time import Time\n",
    "t=Time(57867.346424, format='mjd', scale='utc')\n",
    "t1=Time(58867.346424, format='mjd', scale='utc')\n",
    "print t.mjd\n",
    "print t.iso\n",
    "print t.jyear\n",
    "t1-t"
   ]
  },
  {
   "cell_type": "markdown",
   "metadata": {},
   "source": [
    "## Coordinates\n",
    "\n",
    "Coordinates again work by using an object time defined for this purpose. We can establish a point in the ICRS frame (this is approximately the equatorial coordinate) by defining the ra and dec. Note that here we are using u.degree in specifying the coordinates.\n",
    "\n",
    "We can then print out the RA and dec, as well as change the units displayed. In the last line, we can also convert from ICRS equatorial coordinates to galactic coordinates."
   ]
  },
  {
   "cell_type": "code",
   "execution_count": null,
   "metadata": {
    "collapsed": false
   },
   "outputs": [],
   "source": [
    "c = SkyCoord(ra=10.68458*u.degree, dec=41.26917*u.degree, frame='icrs')\n",
    "print c\n",
    "print c.ra\n",
    "print c.dec\n",
    "print c.ra.hour\n",
    "print c.ra.hms\n",
    "print c.galactic"
   ]
  },
  {
   "cell_type": "markdown",
   "metadata": {},
   "source": [
    "## Slightly practical application of this\n",
    "\n",
    "Using some of these astropy functions, we can do some fancier applications. Starting off, we import a listing of stars with RA and dec from the attached table, and store them in the coordinate formats that are used by astropy. We then use matplotlib to plot this, and are able to easily convert them into radians thanks to astropy. This plot is accurate, but it lacks reference for where these points are."
   ]
  },
  {
   "cell_type": "code",
   "execution_count": null,
   "metadata": {
    "collapsed": false
   },
   "outputs": [],
   "source": [
    "import numpy as np\n",
    "import matplotlib.pyplot as plt\n",
    "\n",
    "hosts={}\n",
    "data=np.loadtxt('planets.tab', dtype='str', delimiter='\\t')\n",
    "print data[0]\n",
    "hosts['ra_hours']=data[1:,9].astype(float)\n",
    "hosts['ra']=data[1:,6].astype(float)\n",
    "hosts['dec']=data[1:,8].astype(float)\n",
    "#print hosts['ra_hours']\n",
    "#print hosts['dec']\n",
    "\n",
    "import astropy.units as u\n",
    "import astropy.coordinates as coord\n",
    "from astropy.coordinates import SkyCoord\n",
    "ra = coord.Angle(hosts['ra']*u.degree)\n",
    "ra = ra.wrap_at(180*u.degree)\n",
    "dec = coord.Angle(hosts['dec']*u.degree)\n",
    "\n",
    "fig = plt.figure(figsize=(8,6))\n",
    "ax = fig.add_subplot(111, projection=\"mollweide\")\n",
    "plt.title('Map of Exoplanets')\n",
    "ax.scatter(ra.radian, dec.radian)\n",
    "ax.set_xticklabels(['14h','16h','18h','20h','22h','0h','2h','4h','6h','8h','10h'])\n",
    "ax.grid(True)\n",
    "plt.show()"
   ]
  },
  {
   "cell_type": "markdown",
   "metadata": {},
   "source": [
    "To fix this, we will add some references to this by adding a few more sets of data points. The first is relatively simple, we put in a line at the celestial equator. This just has to be a set of points that are all at declination of 0, and from -180 to +180 degrees in RA. These are a and b in the below.\n",
    "\n",
    "We also want to add the planes of the ecliptic and the galaxy on this. For both, we use coordinate objects and provide numpy arrays where one coordinate is at zero, and the other goes from 0 to 360. With astropy we can then easily convert from each coordinate system to ICRS. There's some for loops to modify the plotting, but the important thing is that this will give us a plot that has not just the locations of all the planets that we've plotted, but will also include the celestial equator, galactic plane, and ecliptic plane on it."
   ]
  },
  {
   "cell_type": "code",
   "execution_count": null,
   "metadata": {
    "collapsed": false
   },
   "outputs": [],
   "source": [
    "a=coord.Angle((np.arange(361)-180)*u.degree)\n",
    "b=coord.Angle(np.zeros(len(a))*u.degree)\n",
    "numpoints=360\n",
    "galaxy=SkyCoord(l=coord.Angle((np.arange(numpoints))*u.degree), b=coord.Angle(np.zeros(numpoints)*u.degree), frame='galactic')\n",
    "ecliptic=SkyCoord(lon=coord.Angle((np.arange(numpoints))*u.degree), lat=coord.Angle(np.zeros(numpoints)*u.degree), frame='geocentrictrueecliptic')\n",
    "ecl_eq=ecliptic.icrs\n",
    "gal_eq=galaxy.icrs\n",
    "#print gal_eq\n",
    "fixed_ra=[]\n",
    "for item in gal_eq.ra.radian:\n",
    "   if item < np.pi:\n",
    "      fixed_ra.append(item)\n",
    "   else:\n",
    "      fixed_ra.append(item-2*np.pi)\n",
    "i=np.argmin(fixed_ra)\n",
    "fixed_dec=[x for x in gal_eq.dec.radian]\n",
    "\n",
    "fixed_ra_eq=[]\n",
    "for item in ecl_eq.ra.radian:\n",
    "   if item < np.pi:\n",
    "      fixed_ra_eq.append(item)\n",
    "   else:\n",
    "      fixed_ra_eq.append(item-2*np.pi)\n",
    "j=np.argmin(fixed_ra_eq)\n",
    "fixed_dec_eq=[x for x in ecl_eq.dec.radian]\n",
    "\n",
    "fig = plt.figure(figsize=(8,6))\n",
    "ax = fig.add_subplot(111, projection=\"mollweide\")\n",
    "plt.title('Map of Exoplanets')\n",
    "ax.scatter(ra.radian, dec.radian)\n",
    "ax.plot(a.radian, b.radian, color='r', lw=2)\n",
    "#ax.scatter(gal_eq.ra.radian, gal_eq.dec.radian, color='g')\n",
    "ax.plot(fixed_ra[i:]+fixed_ra[:i], fixed_dec[i:]+fixed_dec[:i], color='g', lw=2)\n",
    "ax.plot(fixed_ra_eq[j:]+fixed_ra_eq[:j], fixed_dec_eq[j:]+fixed_dec_eq[:j], color='m', lw=2)\n",
    "ax.set_xticklabels(['14h','16h','18h','20h','22h','0h','2h','4h','6h','8h','10h'])\n",
    "ax.grid(True)\n",
    "plt.show()"
   ]
  },
  {
   "cell_type": "code",
   "execution_count": null,
   "metadata": {
    "collapsed": false
   },
   "outputs": [],
   "source": []
  }
 ],
 "metadata": {
  "kernelspec": {
   "display_name": "Python 2",
   "language": "python",
   "name": "python2"
  },
  "language_info": {
   "codemirror_mode": {
    "name": "ipython",
    "version": 2
   },
   "file_extension": ".py",
   "mimetype": "text/x-python",
   "name": "python",
   "nbconvert_exporter": "python",
   "pygments_lexer": "ipython2",
   "version": "2.7.12"
  }
 },
 "nbformat": 4,
 "nbformat_minor": 2
}
