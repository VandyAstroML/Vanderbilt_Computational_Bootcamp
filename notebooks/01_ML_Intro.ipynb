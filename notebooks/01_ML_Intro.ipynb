{
 "cells": [
  {
   "cell_type": "markdown",
   "metadata": {},
   "source": [
    "First Week Intro<BR>\n",
    "<OL>\n",
    "<LI>Workshop Overview<BR>\n",
    "Meetings each week Monday at 11 AM<BR>\n",
    "\n",
    "Most weeks will be working on a new topic in coding<BR>\n",
    "    Want to lead a session for a topic?\n",
    "Some weeks we will be small hack sessions for people to discuss problems they're working on<BR>\n",
    "<UL><LI>Science issues</LI>\n",
    "<LI>Coding issues</LI></UL>\n",
    "\n",
    "Next week 1/30<BR>\n",
    "How to set up a Python envoronment so that everyone will be using the same libraries<BR>\n",
    "</LI>\n",
    "\n",
    "<LI>This week<BR>\n",
    "An Introduction into some useful programs and services</LI>\n",
    "</OL>"
   ]
  },
  {
   "cell_type": "markdown",
   "metadata": {},
   "source": [
    "ArXiv\n",
    "\n",
    "https://arxiv.org/\n",
    "\n",
    "Best source for finding the newest papers<BR>\n",
    "No paywall<BR>\n",
    "ArXiv warning: Papers on ArXiv don't require peer review, pay attention to if it's been submitted or accepted to a journal<BR>\n",
    "Some papers only exist on ArXiv without being published in a journal<BR>\n",
    "<UI><LI>Manuals\n",
    "<LI>White Papers</UL>"
   ]
  },
  {
   "cell_type": "markdown",
   "metadata": {},
   "source": [
    "SAO/NASA ADS\n",
    "\n",
    "http://adsabs.harvard.edu/\n",
    "\n",
    "database with 12.4 million publications in physics, astronomy, and astrophysics<BR>\n",
    "Also includes ArXiv submissions, and some conference presentations<BR>\n",
    "<BR>\n",
    "MyADS<BR>\n",
    "http://myads.harvard.edu/<BR>\n",
    "ADS service that will email you weekly the most popular publications based on certain keywords<BR>\n",
    "<IMG SRC=01/myADS.png>"
   ]
  },
  {
   "cell_type": "markdown",
   "metadata": {},
   "source": [
    "VoxCharta\n",
    "\n",
    "http://vanderbilt.voxcharta.org/\n",
    "\n",
    "Daily update on all publications on the ArXiv in Astronomy and some areas of physics<BR>\n",
    "Also useful for AstroLunch<BR>\n",
    "Will email you papers you may want to read based off of your past votes"
   ]
  },
  {
   "cell_type": "markdown",
   "metadata": {},
   "source": [
    "Mendeley\n",
    "\n",
    "https://www.mendeley.com/\n",
    "\n",
    "Free software that will manage your downloaded papers<BR>\n",
    "Also manages your list of references<BR>\n",
    "Outputs a Bibtex file that makes including citations in paper quick and simple<BR>\n",
    "\n",
    "<IMG SRC=01/Mendeley.png>\n",
    "\n",
    "Additional code available to update Mendeley and clean up output<NR>\n",
    "<UL><LI>https://github.com/lundmb/MendeleyUpdater<BR>\n",
    "Updates paper information in Mendeley, including adding publication info once ArXiv \n",
    "<LI>https://github.com/lundmb/BibtexUpdater</UL\n",
    "\n",
    "<IMG SRC=01/Mendeley_library.png>"
   ]
  },
  {
   "cell_type": "markdown",
   "metadata": {},
   "source": [
    "ShareLaTeX\n",
    "\n",
    "http://www.sharelatex.com/\n",
    "\n",
    "Site for collaborative paper writing<BR>\n",
    "Free account can share a project it creates with up to 2 people<BR>\n",
    "Paid account can share with an infinite number of people<BR>"
   ]
  },
  {
   "cell_type": "code",
   "execution_count": null,
   "metadata": {
    "collapsed": true
   },
   "outputs": [],
   "source": []
  }
 ],
 "metadata": {
  "kernelspec": {
   "display_name": "Python 2",
   "language": "python",
   "name": "python2"
  },
  "language_info": {
   "codemirror_mode": {
    "name": "ipython",
    "version": 2
   },
   "file_extension": ".py",
   "mimetype": "text/x-python",
   "name": "python",
   "nbconvert_exporter": "python",
   "pygments_lexer": "ipython2",
   "version": "2.7.12"
  }
 },
 "nbformat": 4,
 "nbformat_minor": 1
}
