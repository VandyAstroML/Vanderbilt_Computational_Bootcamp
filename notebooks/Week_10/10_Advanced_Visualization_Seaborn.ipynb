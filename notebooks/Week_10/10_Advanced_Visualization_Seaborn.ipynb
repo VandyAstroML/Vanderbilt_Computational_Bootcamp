{
 "cells": [
  {
   "cell_type": "markdown",
   "metadata": {},
   "source": [
    "![matplotlib](http://matplotlib.org/_static/logo2.svg)\n",
    "# <span style=\"color:green\">Week 10 - Advanced Visualization</span>\n",
    "\n",
    "## Today's Agenda\n",
    "Today we will be focusing on plotting and on how to produce __`publication-ready`__ plots\n",
    "- Modifying your `matplotlibrc` file\n",
    "- Matplotlib Style sheets\n",
    "- Seaborn\n",
    "- Bokeh"
   ]
  },
  {
   "cell_type": "markdown",
   "metadata": {},
   "source": [
    "# <span style=\"color:blue\">Modifying your</span> <span style=\"color:red\">matplotlibrc</span> <span style=\"color:blue\">file</span>\n",
    "Matplotlib uses a _special_ file called `matplotlibrc` file.\n",
    "This file is usually in your __~/.matplotlib/matplotlibrc__\n",
    "\n",
    "You can check the location of this file by typing:"
   ]
  },
  {
   "cell_type": "code",
   "execution_count": 2,
   "metadata": {
    "collapsed": false
   },
   "outputs": [
    {
     "data": {
      "text/plain": [
       "u'/Users/victor2/.matplotlib/matplotlibrc'"
      ]
     },
     "execution_count": 2,
     "metadata": {},
     "output_type": "execute_result"
    }
   ],
   "source": [
    "%matplotlib inline\n",
    "import matplotlib\n",
    "matplotlib.matplotlib_fname()"
   ]
  },
  {
   "cell_type": "markdown",
   "metadata": {},
   "source": []
  }
 ],
 "metadata": {
  "kernelspec": {
   "display_name": "Python 2",
   "language": "python",
   "name": "python2"
  },
  "language_info": {
   "codemirror_mode": {
    "name": "ipython",
    "version": 2
   },
   "file_extension": ".py",
   "mimetype": "text/x-python",
   "name": "python",
   "nbconvert_exporter": "python",
   "pygments_lexer": "ipython2",
   "version": "2.7.13"
  }
 },
 "nbformat": 4,
 "nbformat_minor": 2
}
