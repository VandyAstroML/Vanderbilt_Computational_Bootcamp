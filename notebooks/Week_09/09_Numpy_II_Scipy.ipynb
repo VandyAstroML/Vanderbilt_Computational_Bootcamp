{
 "cells": [
  {
   "cell_type": "markdown",
   "metadata": {},
   "source": [
    "# Week 05 - Numpy II and Scipy\n",
    "\n",
    "## Today's Agenda\n",
    "- Numpy II\n",
    "    - Review from Week 05\n",
    "    - \n",
    "- Scipy\n",
    "    - "
   ]
  },
  {
   "cell_type": "markdown",
   "metadata": {},
   "source": [
    "# Numpy II\n",
    "\n",
    "Last time in [Week 05](https://github.com/VandyAstroML/Vanderbilt_Computational_Bootcamp/blob/master/notebooks/Week_05/05_Numpy_Matplotlib.ipynb), we covered `Numpy` and `Matplotlib`. This time we will be focusing on more advanced concepts of `Numpy`."
   ]
  },
  {
   "cell_type": "code",
   "execution_count": 176,
   "metadata": {
    "collapsed": true
   },
   "outputs": [],
   "source": [
    "%matplotlib inline\n",
    "import numpy as np\n",
    "import matplotlib.pyplot as plt"
   ]
  },
  {
   "cell_type": "markdown",
   "metadata": {},
   "source": [
    "## Review\n",
    "As a review, let's explore some of the concepts that were introduced last time, in `Numpy I`.\n",
    "\n",
    "### Create 1D-arrays\n",
    "We introduced how to create a 1D-array"
   ]
  },
  {
   "cell_type": "code",
   "execution_count": null,
   "metadata": {
    "collapsed": false
   },
   "outputs": [],
   "source": [
    "x = np.array([1,2,3,5,6,7,8,10],dtype=float)\n",
    "x"
   ]
  },
  {
   "cell_type": "code",
   "execution_count": null,
   "metadata": {
    "collapsed": false
   },
   "outputs": [],
   "source": [
    "y = np.arange(10)\n",
    "y"
   ]
  },
  {
   "cell_type": "code",
   "execution_count": null,
   "metadata": {
    "collapsed": false
   },
   "outputs": [],
   "source": [
    "z = np.linspace(0,100,50)\n",
    "z"
   ]
  },
  {
   "cell_type": "code",
   "execution_count": null,
   "metadata": {
    "collapsed": false
   },
   "outputs": [],
   "source": [
    "h = np.random.randn(100)\n",
    "h"
   ]
  },
  {
   "cell_type": "markdown",
   "metadata": {},
   "source": [
    "### Handling arrays\n",
    "\n",
    "These are just a few of the different ways to __create__ numpy arrays.\n",
    "\n",
    "You can also use functions like __np.max()__ and __np.min()__ to get the maximum and minimum values, respectively."
   ]
  },
  {
   "cell_type": "code",
   "execution_count": null,
   "metadata": {
    "collapsed": false
   },
   "outputs": [],
   "source": [
    "print('Min X: {0:.3f} \\t Max X: {1:.3f}'.format(np.min(x), np.max(x)) )"
   ]
  },
  {
   "cell_type": "markdown",
   "metadata": {},
   "source": [
    "#### Apply mathematical functions"
   ]
  },
  {
   "cell_type": "code",
   "execution_count": null,
   "metadata": {
    "collapsed": false
   },
   "outputs": [],
   "source": [
    "zz = x**2 + 3*x**3\n",
    "zz"
   ]
  },
  {
   "cell_type": "markdown",
   "metadata": {},
   "source": [
    "#### Conditionals\n",
    "Find the indices of the elements in an array that meet some criteria.\n",
    "In this example, we're finding all the elements that are within 100 and 500 in array ___\"```zz```\"___."
   ]
  },
  {
   "cell_type": "code",
   "execution_count": null,
   "metadata": {
    "collapsed": false
   },
   "outputs": [],
   "source": [
    "zz_idx = np.where((zz>= 100)&(zz <= 500))[0]\n",
    "print('zz_idx: {0}'.format(zz_idx))\n",
    "\n",
    "zz[zz_idx]"
   ]
  },
  {
   "cell_type": "markdown",
   "metadata": {},
   "source": [
    "## Manipulating Arrays\n",
    "There are a lot of things we can do to a _numpy array_. "
   ]
  },
  {
   "cell_type": "code",
   "execution_count": null,
   "metadata": {
    "collapsed": false
   },
   "outputs": [],
   "source": [
    "h1 = np.random.randint(10, 50, 50)\n",
    "h1"
   ]
  },
  {
   "cell_type": "markdown",
   "metadata": {},
   "source": [
    "We can get the overall __size__ and __shape__ of the array.\n",
    "\n",
    "We cane use the functions `numpy.size` and `numpy.shape` to get the total number of elements in an array and the shape of the array, respectively."
   ]
  },
  {
   "cell_type": "code",
   "execution_count": null,
   "metadata": {
    "collapsed": false
   },
   "outputs": [],
   "source": [
    "np.size(h1)"
   ]
  },
  {
   "cell_type": "code",
   "execution_count": null,
   "metadata": {
    "collapsed": false
   },
   "outputs": [],
   "source": [
    "h1.shape"
   ]
  },
  {
   "cell_type": "code",
   "execution_count": null,
   "metadata": {
    "collapsed": false
   },
   "outputs": [],
   "source": [
    "A = np.array([[1,2,3,4,5],\n",
    "              [6,7,8,9,10],\n",
    "              [12,13,14,16,17],\n",
    "              [13,45,67,89,90] ])\n",
    "A"
   ]
  },
  {
   "cell_type": "code",
   "execution_count": null,
   "metadata": {
    "collapsed": false
   },
   "outputs": [],
   "source": [
    "np.shape(A)"
   ]
  },
  {
   "cell_type": "markdown",
   "metadata": {},
   "source": [
    "You can also __transpose__ array `A`."
   ]
  },
  {
   "cell_type": "code",
   "execution_count": null,
   "metadata": {
    "collapsed": false
   },
   "outputs": [],
   "source": [
    "A_t = np.transpose(A)\n",
    "A_t"
   ]
  },
  {
   "cell_type": "markdown",
   "metadata": {},
   "source": [
    "Why are `Numpy` arrays better than lists:\n",
    "- Python lists are very _general_.\n",
    "- Lists __do not__ support matrix and dot multiplications, etc.\n",
    "- `Numpy` arrays are memory _efficient_.\n",
    "- Numpy arrays are __statically typed__ and __homogeneous__.\n",
    "- They are fast at mathematical functions.\n",
    "- They can be used in compiled languages, e.g. _C_ and _Fortran_."
   ]
  },
  {
   "cell_type": "markdown",
   "metadata": {},
   "source": [
    "### Array-generating functions\n",
    "For large arrays it is inpractical to initialize the data manually, using normal Python lists. Instead, we can use many of the Numpy functions to generate arrays of different forms."
   ]
  },
  {
   "cell_type": "markdown",
   "metadata": {},
   "source": [
    "#### __numpy.arange__\n",
    "We use this one to create a sequence of ordered elements"
   ]
  },
  {
   "cell_type": "code",
   "execution_count": null,
   "metadata": {
    "collapsed": false
   },
   "outputs": [],
   "source": [
    "np.arange(0,10,1)"
   ]
  },
  {
   "cell_type": "code",
   "execution_count": null,
   "metadata": {
    "collapsed": false
   },
   "outputs": [],
   "source": [
    "np.arange(0,20,5)"
   ]
  },
  {
   "cell_type": "code",
   "execution_count": null,
   "metadata": {
    "collapsed": false
   },
   "outputs": [],
   "source": [
    "np.arange(-40,21,10)"
   ]
  },
  {
   "cell_type": "markdown",
   "metadata": {},
   "source": [
    "#### linspace and logspace\n",
    "We use these functions to created ordered lists, separated by intervals in _real_- and _log_-space."
   ]
  },
  {
   "cell_type": "code",
   "execution_count": null,
   "metadata": {
    "collapsed": false
   },
   "outputs": [],
   "source": [
    "B = np.linspace(0,50)\n",
    "B"
   ]
  },
  {
   "cell_type": "code",
   "execution_count": null,
   "metadata": {
    "collapsed": false
   },
   "outputs": [],
   "source": [
    "B = np.linspace(0,100, 20)\n",
    "B"
   ]
  },
  {
   "cell_type": "markdown",
   "metadata": {},
   "source": [
    "Array of __25 elements__ from $10^{0}$ to $10^{3}$, with __base of 10__."
   ]
  },
  {
   "cell_type": "code",
   "execution_count": null,
   "metadata": {
    "collapsed": false
   },
   "outputs": [],
   "source": [
    "B = np.logspace(0,3,25)\n",
    "B"
   ]
  },
  {
   "cell_type": "markdown",
   "metadata": {},
   "source": [
    "Creating an array of 11 elements from $e^{0}$ to $e^{10}$, with the ```base == numpy.e```"
   ]
  },
  {
   "cell_type": "code",
   "execution_count": null,
   "metadata": {
    "collapsed": false
   },
   "outputs": [],
   "source": [
    "B = np.logspace(0,10,11, base=np.e)\n",
    "B"
   ]
  },
  {
   "cell_type": "markdown",
   "metadata": {},
   "source": [
    "#### Random Data"
   ]
  },
  {
   "cell_type": "code",
   "execution_count": null,
   "metadata": {
    "collapsed": true
   },
   "outputs": [],
   "source": [
    "from numpy import random"
   ]
  },
  {
   "cell_type": "code",
   "execution_count": null,
   "metadata": {
    "collapsed": false
   },
   "outputs": [],
   "source": [
    "# Uniform random numbers in [0,1]\n",
    "random.rand(5,5)"
   ]
  },
  {
   "cell_type": "code",
   "execution_count": null,
   "metadata": {
    "collapsed": false
   },
   "outputs": [],
   "source": [
    "# 20 Random integers from 10 to 30\n",
    "random.randint(10,30,20)"
   ]
  },
  {
   "cell_type": "markdown",
   "metadata": {},
   "source": [
    "#### Arrays of `zeros` and `ones`."
   ]
  },
  {
   "cell_type": "code",
   "execution_count": null,
   "metadata": {
    "collapsed": false
   },
   "outputs": [],
   "source": [
    "np.zeros(20)"
   ]
  },
  {
   "cell_type": "markdown",
   "metadata": {},
   "source": [
    "You can use these to populate other arrays"
   ]
  },
  {
   "cell_type": "code",
   "execution_count": null,
   "metadata": {
    "collapsed": false
   },
   "outputs": [],
   "source": [
    "nelem = 10\n",
    "C = np.ones(10)\n",
    "C"
   ]
  },
  {
   "cell_type": "code",
   "execution_count": null,
   "metadata": {
    "collapsed": false
   },
   "outputs": [],
   "source": [
    "for ii in range(C.size):\n",
    "    C[ii] = random.rand()\n",
    "C"
   ]
  },
  {
   "cell_type": "markdown",
   "metadata": {},
   "source": [
    "### Diagonals\n",
    "You can also construct an array with another array as the diagonal"
   ]
  },
  {
   "cell_type": "code",
   "execution_count": null,
   "metadata": {
    "collapsed": false
   },
   "outputs": [],
   "source": [
    "np.diag(random.randint(10,20,5))"
   ]
  },
  {
   "cell_type": "markdown",
   "metadata": {},
   "source": [
    "### Indexing"
   ]
  },
  {
   "cell_type": "markdown",
   "metadata": {},
   "source": [
    "You can choose which values to select.\n",
    "Normally, you select the `rows` first, and then the `cols` of a `numpy.ndarray`."
   ]
  },
  {
   "cell_type": "code",
   "execution_count": null,
   "metadata": {
    "collapsed": false
   },
   "outputs": [],
   "source": [
    "M = random.rand(10,5)\n",
    "M"
   ]
  },
  {
   "cell_type": "markdown",
   "metadata": {},
   "source": [
    "Selecting the 1st row"
   ]
  },
  {
   "cell_type": "code",
   "execution_count": null,
   "metadata": {
    "collapsed": false
   },
   "outputs": [],
   "source": [
    "M[1,:]"
   ]
  },
  {
   "cell_type": "markdown",
   "metadata": {},
   "source": [
    "The 2nd column"
   ]
  },
  {
   "cell_type": "code",
   "execution_count": null,
   "metadata": {
    "collapsed": false
   },
   "outputs": [],
   "source": [
    "M[:,1]"
   ]
  },
  {
   "cell_type": "markdown",
   "metadata": {},
   "source": [
    "Select a range of columns and rows"
   ]
  },
  {
   "cell_type": "code",
   "execution_count": null,
   "metadata": {
    "collapsed": false
   },
   "outputs": [],
   "source": [
    "M[1:3, 2:4]"
   ]
  },
  {
   "cell_type": "markdown",
   "metadata": {},
   "source": [
    "You can easily use this to create a __mask__, for when you are _cleaning_ your data."
   ]
  },
  {
   "cell_type": "code",
   "execution_count": null,
   "metadata": {
    "collapsed": false
   },
   "outputs": [],
   "source": [
    "A = random.rand(3,3)\n",
    "np.fill_diagonal(A, np.nan)\n",
    "A"
   ]
  },
  {
   "cell_type": "code",
   "execution_count": null,
   "metadata": {
    "collapsed": false
   },
   "outputs": [],
   "source": [
    "B = np.arange(0,9).reshape((3,3))\n",
    "B"
   ]
  },
  {
   "cell_type": "markdown",
   "metadata": {},
   "source": [
    "Appying the __mask__ from $A \\to B$"
   ]
  },
  {
   "cell_type": "code",
   "execution_count": null,
   "metadata": {
    "collapsed": false
   },
   "outputs": [],
   "source": [
    "A_mask = np.isfinite(A)\n",
    "A_mask"
   ]
  },
  {
   "cell_type": "code",
   "execution_count": null,
   "metadata": {
    "collapsed": false
   },
   "outputs": [],
   "source": [
    "B[A_mask]"
   ]
  },
  {
   "cell_type": "markdown",
   "metadata": {},
   "source": [
    "### Binning you data\n",
    "This is probably one of the best functions of `Numpy`.\n",
    "You can use this to bin you data, and calculate __means__, __standard deviations__, etc."
   ]
  },
  {
   "cell_type": "markdown",
   "metadata": {},
   "source": [
    "#### numpy.digitize"
   ]
  },
  {
   "cell_type": "code",
   "execution_count": 125,
   "metadata": {
    "collapsed": false
   },
   "outputs": [
    {
     "data": {
      "text/plain": [
       "array([ 0,  1,  2,  3,  4,  5,  6,  7,  8,  9, 10, 11, 12])"
      ]
     },
     "execution_count": 125,
     "metadata": {},
     "output_type": "execute_result"
    }
   ],
   "source": [
    "# Creating my bin edges\n",
    "bins = np.arange(0,13)\n",
    "bins"
   ]
  },
  {
   "cell_type": "code",
   "execution_count": 126,
   "metadata": {
    "collapsed": false
   },
   "outputs": [
    {
     "data": {
      "text/plain": [
       "array([ 9.05689932,  7.97343799,  5.52733597,  1.88089636,  7.96600973,\n",
       "        1.35271296,  7.29958767,  5.37171955,  4.32222497,  2.03485268,\n",
       "        2.64572629,  9.19651253,  7.19940269,  6.90756448,  5.1871598 ,\n",
       "        8.36988955,  1.17578912,  2.0098901 ,  7.73750942,  0.16477836,\n",
       "        7.8392066 ,  8.41008412,  4.99345851,  8.33361221,  2.3246593 ,\n",
       "        1.9040176 ,  5.6554063 ,  5.5320294 ,  7.35546537,  8.54445615,\n",
       "        4.89331821,  1.2530247 ,  7.77305807,  4.20686016,  7.17629362,\n",
       "        9.84882484,  0.9909512 ,  1.8651775 ,  4.89141945,  8.25784443,\n",
       "        5.08259122,  2.45620194,  7.4439493 ,  9.04633938,  7.43854206,\n",
       "        8.41091361,  5.87079485,  9.92639702,  5.85308957,  0.08188588,\n",
       "        2.64315997,  7.53053257,  4.38547632,  6.44642647,  7.87054089,\n",
       "        1.92174222,  7.35320933,  2.24273762,  3.73337975,  5.62853169,\n",
       "        3.01023919,  2.64559988,  8.71023511,  8.57147135,  1.62775907,\n",
       "        7.02986541,  2.41939062,  3.03437871,  1.30332041,  3.69341826,\n",
       "        3.21760568,  7.80239291,  7.76871493,  9.2765031 ,  0.51212881,\n",
       "        8.88752745,  2.2901182 ,  6.97355275,  7.41530478,  2.05063098,\n",
       "        9.23696381,  8.66365237,  4.46850127,  5.88837172,  7.1935141 ,\n",
       "        1.45577613,  1.85852801,  8.52651973,  9.40790459,  5.7298809 ,\n",
       "        9.00879799,  9.31950358,  6.2219584 ,  7.8861646 ,  8.0855731 ,\n",
       "        7.60785744,  3.31802793,  1.30804948,  5.31322619,  1.54626513])"
      ]
     },
     "execution_count": 126,
     "metadata": {},
     "output_type": "execute_result"
    }
   ],
   "source": [
    "# Generating Data\n",
    "data = 10*random.rand(100)\n",
    "data"
   ]
  },
  {
   "cell_type": "markdown",
   "metadata": {},
   "source": [
    "Now I want to bin my data and calculate the mean for each bin"
   ]
  },
  {
   "cell_type": "code",
   "execution_count": 127,
   "metadata": {
    "collapsed": false
   },
   "outputs": [
    {
     "data": {
      "text/plain": [
       "array([10,  8,  6,  2,  8,  2,  8,  6,  5,  3,  3, 10,  8,  7,  6,  9,  2,\n",
       "        3,  8,  1,  8,  9,  5,  9,  3,  2,  6,  6,  8,  9,  5,  2,  8,  5,\n",
       "        8, 10,  1,  2,  5,  9,  6,  3,  8, 10,  8,  9,  6, 10,  6,  1,  3,\n",
       "        8,  5,  7,  8,  2,  8,  3,  4,  6,  4,  3,  9,  9,  2,  8,  3,  4,\n",
       "        2,  4,  4,  8,  8, 10,  1,  9,  3,  7,  8,  3, 10,  9,  5,  6,  8,\n",
       "        2,  2,  9, 10,  6, 10, 10,  7,  8,  9,  8,  4,  2,  6,  2])"
      ]
     },
     "execution_count": 127,
     "metadata": {},
     "output_type": "execute_result"
    }
   ],
   "source": [
    "# Defining statistical function to use\n",
    "stat_func = np.nanmean\n",
    "# Binning the data\n",
    "data_bins = np.digitize(data, bins)\n",
    "data_bins"
   ]
  },
  {
   "cell_type": "markdown",
   "metadata": {},
   "source": [
    "Calculating the __mean__ for each of the bins"
   ]
  },
  {
   "cell_type": "code",
   "execution_count": 129,
   "metadata": {
    "collapsed": false
   },
   "outputs": [
    {
     "data": {
      "text/plain": [
       "array([  0.43743606,   1.57331221,   2.34208796,   3.33450825,\n",
       "         4.59446555,   5.55334476,   6.63737552,   7.55526474,\n",
       "         8.4809816 ,   9.33246462, -10.        , -10.        ])"
      ]
     },
     "execution_count": 129,
     "metadata": {},
     "output_type": "execute_result"
    }
   ],
   "source": [
    "failval = -10\n",
    "bins_stat = np.array([stat_func(data[data_bins == ii]) \\\n",
    "                      if len(data[data_bins == ii]) > 0 \\\n",
    "                      else failval \\\n",
    "                      for ii in xrange(1,len(bins))])\n",
    "bins_stat = np.asarray(bins_stat)\n",
    "bins_stat"
   ]
  },
  {
   "cell_type": "markdown",
   "metadata": {},
   "source": [
    "With this function, it is really easy to apply statistics on binned data, as well as to ___estimate errors___ on the data."
   ]
  },
  {
   "cell_type": "markdown",
   "metadata": {},
   "source": [
    "### Reshaping, resizing and stacking arrays\n",
    "One can always modify the shape of a `numpy.ndarray`, as well as append it to a pre-existing array."
   ]
  },
  {
   "cell_type": "code",
   "execution_count": 130,
   "metadata": {
    "collapsed": false
   },
   "outputs": [
    {
     "data": {
      "text/plain": [
       "array([[ 0,  1,  2,  3,  4],\n",
       "       [10, 11, 12, 13, 14],\n",
       "       [20, 21, 22, 23, 24],\n",
       "       [30, 31, 32, 33, 34],\n",
       "       [40, 41, 42, 43, 44]])"
      ]
     },
     "execution_count": 130,
     "metadata": {},
     "output_type": "execute_result"
    }
   ],
   "source": [
    "A = np.array([[n+m*10 for n in range(5)] for m in range(5)])\n",
    "A"
   ]
  },
  {
   "cell_type": "code",
   "execution_count": 131,
   "metadata": {
    "collapsed": true
   },
   "outputs": [],
   "source": [
    "n, m = A.shape"
   ]
  },
  {
   "cell_type": "code",
   "execution_count": 132,
   "metadata": {
    "collapsed": false
   },
   "outputs": [
    {
     "data": {
      "text/plain": [
       "array([[ 0,  1,  2,  3,  4, 10, 11, 12, 13, 14, 20, 21, 22, 23, 24, 30, 31,\n",
       "        32, 33, 34, 40, 41, 42, 43, 44]])"
      ]
     },
     "execution_count": 132,
     "metadata": {},
     "output_type": "execute_result"
    }
   ],
   "source": [
    "B = A.reshape((1,n*m))\n",
    "B"
   ]
  },
  {
   "cell_type": "code",
   "execution_count": 146,
   "metadata": {
    "collapsed": false
   },
   "outputs": [],
   "source": [
    "A_f = A.flatten()"
   ]
  },
  {
   "cell_type": "code",
   "execution_count": 147,
   "metadata": {
    "collapsed": false
   },
   "outputs": [
    {
     "data": {
      "text/plain": [
       "array([ 0.94944466,  0.93069537,  0.9731951 ,  0.2884952 ,  0.9391046 ,\n",
       "        0.17813507,  0.62301129,  0.44455219,  0.1700908 ,  0.97519083,\n",
       "        0.22160399,  0.15344645,  0.0794194 ,  0.49462554,  0.36883603,\n",
       "        0.15148293,  0.37198802,  0.06465983,  0.58614949,  0.6231193 ,\n",
       "        0.22091085,  0.11315721,  0.16313542,  0.06731301,  0.62401978])"
      ]
     },
     "execution_count": 147,
     "metadata": {},
     "output_type": "execute_result"
    }
   ],
   "source": [
    "C = random.rand(A.size)\n",
    "C"
   ]
  },
  {
   "cell_type": "code",
   "execution_count": 148,
   "metadata": {
    "collapsed": false
   },
   "outputs": [
    {
     "data": {
      "text/plain": [
       "(25,)"
      ]
     },
     "execution_count": 148,
     "metadata": {},
     "output_type": "execute_result"
    }
   ],
   "source": [
    "C.shape"
   ]
  },
  {
   "cell_type": "code",
   "execution_count": 152,
   "metadata": {
    "collapsed": false
   },
   "outputs": [
    {
     "data": {
      "text/plain": [
       "array([[  0.        ,   0.94944466],\n",
       "       [  1.        ,   0.93069537],\n",
       "       [  2.        ,   0.9731951 ],\n",
       "       [  3.        ,   0.2884952 ],\n",
       "       [  4.        ,   0.9391046 ],\n",
       "       [ 10.        ,   0.17813507],\n",
       "       [ 11.        ,   0.62301129],\n",
       "       [ 12.        ,   0.44455219],\n",
       "       [ 13.        ,   0.1700908 ],\n",
       "       [ 14.        ,   0.97519083],\n",
       "       [ 20.        ,   0.22160399],\n",
       "       [ 21.        ,   0.15344645],\n",
       "       [ 22.        ,   0.0794194 ],\n",
       "       [ 23.        ,   0.49462554],\n",
       "       [ 24.        ,   0.36883603],\n",
       "       [ 30.        ,   0.15148293],\n",
       "       [ 31.        ,   0.37198802],\n",
       "       [ 32.        ,   0.06465983],\n",
       "       [ 33.        ,   0.58614949],\n",
       "       [ 34.        ,   0.6231193 ],\n",
       "       [ 40.        ,   0.22091085],\n",
       "       [ 41.        ,   0.11315721],\n",
       "       [ 42.        ,   0.16313542],\n",
       "       [ 43.        ,   0.06731301],\n",
       "       [ 44.        ,   0.62401978]])"
      ]
     },
     "execution_count": 152,
     "metadata": {},
     "output_type": "execute_result"
    }
   ],
   "source": [
    "# Stacking the two arrays\n",
    "D = np.column_stack((A_f,C))\n",
    "D"
   ]
  },
  {
   "cell_type": "code",
   "execution_count": 155,
   "metadata": {
    "collapsed": false
   },
   "outputs": [
    {
     "data": {
      "text/plain": [
       "array([[  2.        ,   0.9731951 ],\n",
       "       [  3.        ,   0.2884952 ],\n",
       "       [  4.        ,   0.9391046 ],\n",
       "       [ 10.        ,   0.17813507],\n",
       "       [ 11.        ,   0.62301129],\n",
       "       [ 12.        ,   0.44455219],\n",
       "       [ 13.        ,   0.1700908 ],\n",
       "       [ 14.        ,   0.97519083]])"
      ]
     },
     "execution_count": 155,
     "metadata": {},
     "output_type": "execute_result"
    }
   ],
   "source": [
    "# Selecting from 3rd to 11th row\n",
    "D[2:10]"
   ]
  },
  {
   "cell_type": "markdown",
   "metadata": {},
   "source": [
    "#### np.concatenate\n",
    "You can also concadenate different arrays"
   ]
  },
  {
   "cell_type": "code",
   "execution_count": 158,
   "metadata": {
    "collapsed": true
   },
   "outputs": [],
   "source": [
    "a = np.array([[1, 2], [3, 4]])\n",
    "b = np.array([[5,6]])"
   ]
  },
  {
   "cell_type": "code",
   "execution_count": 160,
   "metadata": {
    "collapsed": false
   },
   "outputs": [
    {
     "data": {
      "text/plain": [
       "array([[1, 2],\n",
       "       [3, 4],\n",
       "       [5, 6]])"
      ]
     },
     "execution_count": 160,
     "metadata": {},
     "output_type": "execute_result"
    }
   ],
   "source": [
    "np.concatenate((a,b))"
   ]
  },
  {
   "cell_type": "code",
   "execution_count": 162,
   "metadata": {
    "collapsed": false
   },
   "outputs": [
    {
     "data": {
      "text/plain": [
       "array([[1, 2, 5],\n",
       "       [3, 4, 6]])"
      ]
     },
     "execution_count": 162,
     "metadata": {},
     "output_type": "execute_result"
    }
   ],
   "source": [
    "np.concatenate((a,b.T), axis=1)"
   ]
  },
  {
   "cell_type": "markdown",
   "metadata": {},
   "source": [
    "### Copy and \"Deep Copy\"\n",
    "Sometimes it is important to create new _copies_ of arrays and other objects. For this reason, one uses __numpy.copy__ to create _new_ copies of arrays"
   ]
  },
  {
   "cell_type": "code",
   "execution_count": 164,
   "metadata": {
    "collapsed": false
   },
   "outputs": [
    {
     "data": {
      "text/plain": [
       "array([[1, 2],\n",
       "       [3, 4]])"
      ]
     },
     "execution_count": 164,
     "metadata": {},
     "output_type": "execute_result"
    }
   ],
   "source": [
    "A = np.array([[1, 2], [3, 4]])\n",
    "A"
   ]
  },
  {
   "cell_type": "code",
   "execution_count": 165,
   "metadata": {
    "collapsed": true
   },
   "outputs": [],
   "source": [
    "# `B` is now referring to the same array data as `A`\n",
    "B = A"
   ]
  },
  {
   "cell_type": "markdown",
   "metadata": {},
   "source": [
    "If we make any changes to `B`, __`A` will also be affected by this change__."
   ]
  },
  {
   "cell_type": "code",
   "execution_count": 166,
   "metadata": {
    "collapsed": false
   },
   "outputs": [
    {
     "data": {
      "text/plain": [
       "array([[10,  2],\n",
       "       [ 3,  4]])"
      ]
     },
     "execution_count": 166,
     "metadata": {},
     "output_type": "execute_result"
    }
   ],
   "source": [
    "B[0,0] = 10\n",
    "B"
   ]
  },
  {
   "cell_type": "code",
   "execution_count": 167,
   "metadata": {
    "collapsed": false
   },
   "outputs": [
    {
     "data": {
      "text/plain": [
       "array([[10,  2],\n",
       "       [ 3,  4]])"
      ]
     },
     "execution_count": 167,
     "metadata": {},
     "output_type": "execute_result"
    }
   ],
   "source": [
    "A"
   ]
  },
  {
   "cell_type": "markdown",
   "metadata": {},
   "source": [
    "To get a __completely independent, new object__, you would use:"
   ]
  },
  {
   "cell_type": "code",
   "execution_count": 169,
   "metadata": {
    "collapsed": false
   },
   "outputs": [
    {
     "data": {
      "text/plain": [
       "array([[-5,  2],\n",
       "       [ 3,  4]])"
      ]
     },
     "execution_count": 169,
     "metadata": {},
     "output_type": "execute_result"
    }
   ],
   "source": [
    "B = np.copy(A)\n",
    "# Modifying `B`\n",
    "B[0,0] = -5\n",
    "B"
   ]
  },
  {
   "cell_type": "code",
   "execution_count": 170,
   "metadata": {
    "collapsed": false
   },
   "outputs": [
    {
     "data": {
      "text/plain": [
       "array([[10,  2],\n",
       "       [ 3,  4]])"
      ]
     },
     "execution_count": 170,
     "metadata": {},
     "output_type": "execute_result"
    }
   ],
   "source": [
    "A"
   ]
  },
  {
   "cell_type": "markdown",
   "metadata": {},
   "source": [
    "The array `A` was not affected by this changed. This is important when you're constantly re-defining new arrays"
   ]
  },
  {
   "cell_type": "markdown",
   "metadata": {},
   "source": [
    "# Scipy - Library of Scientific Algorithms for Python"
   ]
  },
  {
   "cell_type": "markdown",
   "metadata": {},
   "source": [
    "`SciPy` provides a large number of higher-level scientif algorithms.\n",
    "It includes:\n",
    "- Special Functions\n",
    "- Integration\n",
    "- Optimization\n",
    "- Interpolation\n",
    "- Fourier Transforms\n",
    "- Signal Processing\n",
    "- Linear Algebra\n",
    "- Statistics\n",
    "- Multi-dimensional image processing"
   ]
  },
  {
   "cell_type": "code",
   "execution_count": 171,
   "metadata": {
    "collapsed": true
   },
   "outputs": [],
   "source": [
    "from scipy import *"
   ]
  },
  {
   "cell_type": "markdown",
   "metadata": {},
   "source": [
    "## Interpolation\n",
    "You can use `Scipy` to interpolate your data.\n",
    "You would use the `interp1d` function to interpolate your function."
   ]
  },
  {
   "cell_type": "code",
   "execution_count": 172,
   "metadata": {
    "collapsed": true
   },
   "outputs": [],
   "source": [
    "from scipy.interpolate import *"
   ]
  },
  {
   "cell_type": "code",
   "execution_count": 173,
   "metadata": {
    "collapsed": true
   },
   "outputs": [],
   "source": [
    "def f(x):\n",
    "    return np.sin(x)"
   ]
  },
  {
   "cell_type": "code",
   "execution_count": 174,
   "metadata": {
    "collapsed": true
   },
   "outputs": [],
   "source": [
    "n = arange(0, 10)  \n",
    "x = linspace(0, 9, 100)\n",
    "\n",
    "y_meas = f(n) + 0.1 * randn(len(n)) # simulate measurement with noise\n",
    "y_real = f(x)\n",
    "\n",
    "linear_interpolation = interp1d(n, y_meas)\n",
    "y_interp1 = linear_interpolation(x)\n",
    "\n",
    "cubic_interpolation = interp1d(n, y_meas, kind='cubic')\n",
    "y_interp2 = cubic_interpolation(x)"
   ]
  },
  {
   "cell_type": "code",
   "execution_count": 180,
   "metadata": {
    "collapsed": false
   },
   "outputs": [
    {
     "data": {
      "image/png": "[encoded data removed]",
      "text/plain": [
       "<matplotlib.figure.Figure at 0x11ad371d0>"
      ]
     },
     "metadata": {},
     "output_type": "display_data"
    }
   ],
   "source": [
    "fig, ax = plt.subplots(figsize=(10,4))\n",
    "ax.set_facecolor('white')\n",
    "ax.plot(n, y_meas, 'bs', label='noisy data')\n",
    "ax.plot(x, y_real, 'k', lw=2, label='true function')\n",
    "ax.plot(x, y_interp1, 'r', label='linear interp')\n",
    "ax.plot(x, y_interp2, 'g', label='cubic interp')\n",
    "ax.legend(loc=3);"
   ]
  },
  {
   "cell_type": "markdown",
   "metadata": {},
   "source": [
    "### KD-Trees\n",
    "You can also use "
   ]
  }
 ],
 "metadata": {
  "kernelspec": {
   "display_name": "Python 2",
   "language": "python",
   "name": "python2"
  },
  "language_info": {
   "codemirror_mode": {
    "name": "ipython",
    "version": 2
   },
   "file_extension": ".py",
   "mimetype": "text/x-python",
   "name": "python",
   "nbconvert_exporter": "python",
   "pygments_lexer": "ipython2",
   "version": "2.7.13"
  }
 },
 "nbformat": 4,
 "nbformat_minor": 2
}
