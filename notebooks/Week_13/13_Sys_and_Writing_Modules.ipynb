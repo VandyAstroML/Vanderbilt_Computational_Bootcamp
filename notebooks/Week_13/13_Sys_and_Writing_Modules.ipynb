{
 "cells": [
  {
   "cell_type": "markdown",
   "metadata": {
    "deletable": true,
    "editable": true
   },
   "source": [
    "# <span style=\"color:blue\">Week 13 - Sys and Modules</span>\n",
    "\n",
    "## <span style=\"color:red\">Today's Agenda</span>\n",
    "- Sys  \n",
    "- Writing your own module\n",
    "- Adding your module to you Python Path"
   ]
  },
  {
   "cell_type": "markdown",
   "metadata": {
    "deletable": true,
    "editable": true
   },
   "source": [
    "# Sys\n",
    "\n",
    "The __`sys`__ module provides a lot of information about the Python interpreter. The functionality that we're interested in is the ability to use __`sys`__ to parse information from the command line. This can be used to make programs and modules useful when run from the command line.\n",
    "\n",
    "After importing __`sys`__, __```sys.argv```__ provides a list of all the parameters that the current python script was called with. A program that doesn't take any paramters will only have one item in this list, where the 0th item is the name of the program. Any paramters that are passed into the script will be listed after.\n",
    "\n",
    "From a command line, try running the following in the notebooks directory:  \n",
    "\n",
    "```sh\n",
    "\n",
    "python arguments.py arg1 arg2\n",
    "\n",
    "```\n",
    "\n",
    "In this script from http://www.python-course.eu/sys_module.php, we see that the 0th term in sys.argv is arguments.py and the rest of the list is the parameters we passed in. This will come in handy with our module."
   ]
  },
  {
   "cell_type": "code",
   "execution_count": null,
   "metadata": {
    "collapsed": false,
    "deletable": true,
    "editable": true
   },
   "outputs": [],
   "source": [
    "# %load ./arguments.py\n",
    "#!/usr/bin/python\n",
    "\n",
    "import sys\n",
    "\n",
    "# it's easy to print this list of course:\n",
    "print sys.argv\n",
    "\n",
    "# or it can be iterated via a for loop:\n",
    "\n",
    "for i in range(len(sys.argv)):\n",
    "    if i == 0:\n",
    "        print \"Function name: %s\" % sys.argv[0]\n",
    "    else:\n",
    "        print \"%d. argument: %s\" % (i,sys.argv[i])\n",
    "\n",
    "\n",
    "# copied from http://www.python-course.eu/sys_module.php\n"
   ]
  },
  {
   "cell_type": "markdown",
   "metadata": {
    "deletable": true,
    "editable": true
   },
   "source": [
    "# Writing a Module\n",
    "\n",
    "There will always be some code that you have to write yourself. When you're working on a single script that does the same things repeatedly, it makes sense to start writing functions within the script. However, you may also have operations that are carried out in multiple scripts for various projects. In this case, we'd like to be able to use that same function in all scripts. This will be very similar to writing a single function, so we'll try out the function, but the file that contains our module is stellar_radius.py\n",
    "\n",
    "For this function, we'll say that we want to be able to take the mass of a star and calculate the radius. For smaller-mass stars, we can approximate this as $R=M^{0.8}$"
   ]
  },
  {
   "cell_type": "code",
   "execution_count": 2,
   "metadata": {
    "collapsed": true,
    "deletable": true,
    "editable": true
   },
   "outputs": [],
   "source": [
    "def stellar_r(mass):\n",
    "   starR=mass**0.8\n",
    "   return starR"
   ]
  },
  {
   "cell_type": "markdown",
   "metadata": {
    "deletable": true,
    "editable": true
   },
   "source": [
    "This is a really simple equation, but by making this a function, we can make it more sophisticated or change the exponent in one spot, and it will be updated everywhere. We can quickly test this out to see that the function works the way that we expect when called."
   ]
  },
  {
   "cell_type": "code",
   "execution_count": 3,
   "metadata": {
    "collapsed": false,
    "deletable": true,
    "editable": true
   },
   "outputs": [
    {
     "name": "stdout",
     "output_type": "stream",
     "text": [
      "1.0\n",
      "0.91916611884\n"
     ]
    }
   ],
   "source": [
    "print(stellar_r(1))\n",
    "print(stellar_r(0.9))"
   ]
  },
  {
   "cell_type": "markdown",
   "metadata": {
    "deletable": true,
    "editable": true
   },
   "source": [
    "You can also pass a NumPy array to the function"
   ]
  },
  {
   "cell_type": "code",
   "execution_count": 4,
   "metadata": {
    "collapsed": true,
    "deletable": true,
    "editable": true
   },
   "outputs": [],
   "source": [
    "%matplotlib inline\n",
    "import matplotlib.pyplot\n",
    "import numpy as np"
   ]
  },
  {
   "cell_type": "code",
   "execution_count": 5,
   "metadata": {
    "collapsed": false,
    "deletable": true,
    "editable": true
   },
   "outputs": [
    {
     "data": {
      "text/plain": [
       "array([ 0.83651164,  0.91916612,  1.        ,  1.07923035,  1.157031  ,\n",
       "        1.2335441 ,  1.30888783,  1.38316187,  1.45645136,  1.52882979,\n",
       "        1.60036117,  1.6711017 ,  1.74110113,  1.81040373,  1.87904917,\n",
       "        1.94707315,  2.01450799,  2.08138302,  2.14772503,  2.21355854,\n",
       "        2.27890607,  2.34378839,  2.40822469,  2.47223275,  2.53582911,\n",
       "        2.59902916,  2.66184727,  2.7242969 ,  2.78639063,  2.8481403 ,\n",
       "        2.90955705,  2.97065136,  3.03143313,  3.09191172,  3.15209597,\n",
       "        3.21199429,  3.27161463,  3.33096455,  3.39005126,  3.44888161,\n",
       "        3.50746212,  3.56579904])"
      ]
     },
     "execution_count": 5,
     "metadata": {},
     "output_type": "execute_result"
    }
   ],
   "source": [
    "mass_arr = np.arange(0.8, 5, 0.1)\n",
    "stellar_r( mass_arr )"
   ]
  },
  {
   "cell_type": "markdown",
   "metadata": {
    "deletable": true,
    "editable": true
   },
   "source": [
    "If we want to use this module that we've created, we can inport it as we have with other modules. When we import it, we're using the file name, and then when we call the function, we have to include the function name and for this module those two are the same. These could also be different, where the file name is one thing, and then it contains one or more functions that have names that don't match it."
   ]
  },
  {
   "cell_type": "code",
   "execution_count": 6,
   "metadata": {
    "collapsed": false,
    "deletable": true,
    "editable": true
   },
   "outputs": [
    {
     "name": "stdout",
     "output_type": "stream",
     "text": [
      "0.91916611884\n"
     ]
    }
   ],
   "source": [
    "import stellar_radius as staR\n",
    "print staR.stellar_radius(0.9)"
   ]
  },
  {
   "cell_type": "markdown",
   "metadata": {
    "deletable": true,
    "editable": true
   },
   "source": [
    "This is what the \"`stellar_radius.py`\" file looks like:"
   ]
  },
  {
   "cell_type": "code",
   "execution_count": null,
   "metadata": {
    "collapsed": false,
    "deletable": true,
    "editable": true
   },
   "outputs": [],
   "source": [
    "# %load ./stellar_radius.py\n",
    "#!/usr/bin/env python\n",
    "import numpy as np\n",
    "import sys\n",
    "\n",
    "def stellar_radius(mass):\n",
    "   starR=mass**0.8\n",
    "   return starR\n",
    "\n",
    "if __name__ == \"__main__\":\n",
    "   print stellar_radius(float(sys.argv[1])) #mass\n"
   ]
  },
  {
   "cell_type": "markdown",
   "metadata": {
    "deletable": true,
    "editable": true
   },
   "source": [
    "This all works for if we simply want to import the function into another python function, but it can often be useful to be able to run these functions from a command line (for example, so that we can use execute this python function in another scripting language or so that we can run it from the command line for quick calculations)\n",
    "\n",
    "The simplest form of a module file just contains a series of functions without running any of them, but we can add some additional code to the module file that will be run if this file is executed rather than imported.\n",
    "\n",
    "This code consists of an if statement. The \\_\\_name\\_\\_ property relates to what the code is called, and if the file is called directly, it will be True. If the code is imported, then this code won't be executed. What follows is a single line that calls the stellar radius function using the argument that will get passed in from the command line."
   ]
  },
  {
   "cell_type": "markdown",
   "metadata": {
    "deletable": true,
    "editable": true
   },
   "source": [
    "```python\n",
    "    if __name__ == \"__main__\":  \n",
    "       print stellar_radius(float(sys.argv[1])) #mass\n",
    "```"
   ]
  },
  {
   "cell_type": "markdown",
   "metadata": {
    "deletable": true,
    "editable": true
   },
   "source": [
    "We can test this out, then, by going into the directory for the notebook and calling the code from the terminal\n",
    "    python stellar_radius.py 0.9  \n",
    "    \n",
    "We could also call this code from another operating language if needed."
   ]
  },
  {
   "cell_type": "markdown",
   "metadata": {
    "deletable": true,
    "editable": true
   },
   "source": [
    "## Adding your modules to your `Python Path`\n",
    "\n",
    "Normally, you want to have a unique folder, in which you save all of your modules and you can reuse them whenever you want.\n",
    "\n",
    "This can be done by first creating a folder in your path.\n",
    "\n",
    "Let's first create a folder with the name \"__custom_utilities__\" in your directory"
   ]
  },
  {
   "cell_type": "code",
   "execution_count": 17,
   "metadata": {
    "collapsed": false,
    "deletable": true,
    "editable": true
   },
   "outputs": [],
   "source": [
    "!mkdir \"$HOME/custom_utilities\"\n",
    "!mkdir \"$HOME/custom_utilities/python_modules/\""
   ]
  },
  {
   "cell_type": "markdown",
   "metadata": {
    "deletable": true,
    "editable": true
   },
   "source": [
    "The structure of your directory would be:\n",
    "\n",
    "```sh\n",
    "myMath/\n",
    "    __init__.py\n",
    "    adv/\n",
    "        __init__.py\n",
    "        sqrt.py\n",
    "        fib.py\n",
    "    add.py\n",
    "    subtract.py\n",
    "    multiply.py\n",
    "    divide.py\n",
    "```"
   ]
  },
  {
   "cell_type": "markdown",
   "metadata": {
    "deletable": true,
    "editable": true
   },
   "source": [
    "For example, let's create a module that computes the fibonacci sequence for a given `n`, under `\"./modules/adv/fib.py\"`"
   ]
  },
  {
   "cell_type": "code",
   "execution_count": null,
   "metadata": {
    "collapsed": false,
    "deletable": true,
    "editable": true
   },
   "outputs": [],
   "source": [
    "# %load ./modules/adv/fib.py\n",
    "#! /usr/bin/env python\n",
    "\n",
    "# NAME\n",
    "# DATE\n",
    "# Vanderbilt University\n",
    "from __future__ import print_function, division, absolute_import\n",
    "__author__     =['YOUR NAME']\n",
    "__copyright__  =[\"Copyright 2017 YOUR NAME, Name of Project\"]\n",
    "__email__      =['Email Address']\n",
    "__maintainer__ =['Your Name']\n",
    "\n",
    "__all__[\"add\", \"division\", \"multiply\", \"subtract\"]\n",
    "\n",
    "from math import sqrt\n",
    "\n",
    "\n",
    " \n",
    "#----------------------------------------------------------------------\n",
    "def fibonacci(n):\n",
    "    \"\"\"\n",
    "    http://stackoverflow.com/questions/494594/how-to-write-the-fibonacci-sequence-in-python\n",
    "    \"\"\"\n",
    "    return ((1+sqrt(5))**n-(1-sqrt(5))**n)/(2**n*sqrt(5))"
   ]
  },
  {
   "cell_type": "markdown",
   "metadata": {
    "deletable": true,
    "editable": true
   },
   "source": [
    "And one that computes the square roots for a given number `_n_`."
   ]
  },
  {
   "cell_type": "code",
   "execution_count": null,
   "metadata": {
    "collapsed": true,
    "deletable": true,
    "editable": true
   },
   "outputs": [],
   "source": [
    "# %load ./modules/adv/sqrt.py\n",
    "#! /usr/bin/env python\n",
    "\n",
    "# NAME\n",
    "# DATE\n",
    "# Vanderbilt University\n",
    "from __future__ import print_function, division, absolute_import\n",
    "__author__     =['YOUR NAME']\n",
    "__copyright__  =[\"Copyright 2017 YOUR NAME, Name of Project\"]\n",
    "__email__      =['Email Address']\n",
    "__maintainer__ =['Your Name']\n",
    "\n",
    "__all__[\"add\", \"division\", \"multiply\", \"subtract\"]\n",
    "\n",
    "import math\n",
    " \n",
    "#----------------------------------------------------------------------\n",
    "def squareroot(n):\n",
    "    \"\"\"\"\"\"\n",
    "    return math.sqrt(n)"
   ]
  },
  {
   "cell_type": "markdown",
   "metadata": {
    "deletable": true,
    "editable": true
   },
   "source": [
    "For each folder and subfolder, you need a ```\"__init__.py\"``` file\n",
    "\n",
    "This is how it looks like"
   ]
  },
  {
   "cell_type": "code",
   "execution_count": null,
   "metadata": {
    "collapsed": true,
    "deletable": true,
    "editable": true
   },
   "outputs": [],
   "source": [
    "# %load ./modules/__init__.py\n",
    "#! /usr/bin/env python\n",
    "\n",
    "# NAME\n",
    "# DATE\n",
    "# Vanderbilt University\n",
    "from __future__ import print_function, division#, absolute_import\n",
    "__author__     =['YOUR NAME']\n",
    "__copyright__  =[\"Copyright 2017 YOUR NAME, Name of Project\"]\n",
    "__email__      =['Email Address']\n",
    "__maintainer__ =['Your Name']\n",
    "\n",
    "__all__ = [\"add\", \"division\", \"multiply\", \"subtract\", \"fibonacci\", \"squareroot\"]\n",
    "\n",
    "from arithmetic import add\n",
    "from arithmetic import division\n",
    "from arithmetic import multiply\n",
    "from arithmetic import subtract\n",
    "\n",
    "from adv.fib import fibonacci\n",
    "from adv.sqrt import squareroot"
   ]
  },
  {
   "cell_type": "markdown",
   "metadata": {
    "deletable": true,
    "editable": true
   },
   "source": [
    "And for the one in the __adv__ folder. This file can be empty"
   ]
  },
  {
   "cell_type": "code",
   "execution_count": null,
   "metadata": {
    "collapsed": true,
    "deletable": true,
    "editable": true
   },
   "outputs": [],
   "source": [
    "# %load ./modules/adv/__init__.py\n"
   ]
  },
  {
   "cell_type": "markdown",
   "metadata": {
    "deletable": true,
    "editable": true
   },
   "source": [
    "The _last_ step to take when creating your own modules is to append your ```PYTHONPATH```."
   ]
  },
  {
   "cell_type": "code",
   "execution_count": 29,
   "metadata": {
    "collapsed": true,
    "deletable": true,
    "editable": true
   },
   "outputs": [],
   "source": [
    "!echo 'export PYTHONPATH=\"$HOME/custom_utilities/python_modules/:$PYTHONPATH\"' >> $HOME/.bash_profile"
   ]
  },
  {
   "cell_type": "markdown",
   "metadata": {
    "deletable": true,
    "editable": true
   },
   "source": [
    "For more details about creating your own modules, you can look at:\n",
    "- [https://www.blog.pythonlibrary.org/2012/07/08/python-201-creating-modules-and-packages/](https://www.blog.pythonlibrary.org/2012/07/08/python-201-creating-modules-and-packages/)\n",
    "- [https://pythonconquerstheuniverse.wordpress.com/2009/10/15/python-packages/](https://pythonconquerstheuniverse.wordpress.com/2009/10/15/python-packages/)"
   ]
  },
  {
   "cell_type": "markdown",
   "metadata": {
    "deletable": true,
    "editable": true
   },
   "source": [
    "# Writing a Module Exercise\n",
    "\n",
    "To wrap up this concept, we can try this with a fresh example that may be useful to have in the future. We can use the rest of the time for writing and debugging a simple Python module that will take an input in hours, minutes, and seconds and return a value that is decimal hours. In this case, we have three values that will be passed in.\n",
    "\n",
    "## What we'll need\n",
    "- A function that will do the needed conversion\n",
    "- A statement at the end of the code that will be executed if we call the code directly\n",
    "(the code for stellar radius can be thought of as a template for this)"
   ]
  }
 ],
 "metadata": {
  "kernelspec": {
   "display_name": "Python 2",
   "language": "python",
   "name": "python2"
  },
  "language_info": {
   "codemirror_mode": {
    "name": "ipython",
    "version": 2
   },
   "file_extension": ".py",
   "mimetype": "text/x-python",
   "name": "python",
   "nbconvert_exporter": "python",
   "pygments_lexer": "ipython2",
   "version": "2.7.13"
  }
 },
 "nbformat": 4,
 "nbformat_minor": 1
}
